{
 "metadata": {
  "name": "",
  "signature": "sha256:e433d7a760b00bc776bc32386badcc4fdd23075adb23e937f68c6ea757b7b390"
 },
 "nbformat": 3,
 "nbformat_minor": 0,
 "worksheets": [
  {
   "cells": [
    {
     "cell_type": "heading",
     "level": 1,
     "metadata": {},
     "source": [
      "Proyecto BlogFeedback "
     ]
    },
    {
     "cell_type": "heading",
     "level": 3,
     "metadata": {},
     "source": [
      "Autores:  Team oyentes"
     ]
    },
    {
     "cell_type": "markdown",
     "metadata": {},
     "source": [
      "M\u00f3dulos de python utilizados para la realizaci\u00f3n del proyecto"
     ]
    },
    {
     "cell_type": "code",
     "collapsed": false,
     "input": [
      "import pandas as pd\n",
      "import glob\n",
      "from sklearn import linear_model\n",
      "from sklearn.metrics import r2_score"
     ],
     "language": "python",
     "metadata": {},
     "outputs": [],
     "prompt_number": 1
    },
    {
     "cell_type": "markdown",
     "metadata": {},
     "source": [
      "Lectura de los datos de entrenamiento, en el cual se utiliza la ruta absoluta donde se encuentra el .csv"
     ]
    },
    {
     "cell_type": "code",
     "collapsed": false,
     "input": [
      "df = pd.read_csv(\n",
      "    '/home/urb/PycharmProjects/Machine_Learning/Data/P1/BlogFeedback/blogData_train.csv',\n",
      "    header=None)\n",
      "DATA = df.as_matrix()\n",
      "X = DATA[:, :-1]\n",
      "Y = DATA[:, -1]"
     ],
     "language": "python",
     "metadata": {},
     "outputs": [],
     "prompt_number": 2
    },
    {
     "cell_type": "markdown",
     "metadata": {},
     "source": [
      "Instancias de los modelos de regresi\u00f3n, utilizando los dos tipos de regularizaci\u00f3n (LASSO, RIDGE) y elasticNet que es la combinaci\u00f3n de los dos. Para poder seleccionar despu\u00e9s el mejor modelo dependiendo de los resultados. "
     ]
    },
    {
     "cell_type": "code",
     "collapsed": false,
     "input": [
      "model = linear_model.Ridge(alpha=0.01, normalize=True)\n",
      "model2 = linear_model.Lasso(alpha=0.01, normalize=True)\n",
      "model3 = linear_model.ElasticNet(alpha=0.01, normalize=True)"
     ],
     "language": "python",
     "metadata": {},
     "outputs": [],
     "prompt_number": 3
    },
    {
     "cell_type": "markdown",
     "metadata": {},
     "source": [
      "Entrenamiento de los modelos utilizando el dataset de training."
     ]
    },
    {
     "cell_type": "code",
     "collapsed": false,
     "input": [
      "model.fit(X, Y)\n",
      "model2.fit(X, Y)\n",
      "model3.fit(X, Y)"
     ],
     "language": "python",
     "metadata": {},
     "outputs": []
    },
    {
     "cell_type": "markdown",
     "metadata": {},
     "source": [
      "Predicci\u00f3n de los datos, utilizando los archivos de testing. Adem\u00e1s de la realizaci\u00f3n de la m\u00e9trica R cuadrada; la cual nos indica cual es el mejor modelo para cada prueba. El valor m\u00e1s cercano a 1 es el \u00f3ptimo."
     ]
    },
    {
     "cell_type": "code",
     "collapsed": false,
     "input": [
      "dir_test = glob.glob(\n",
      "    '/home/urb/PycharmProjects/Machine_Learning/Data/P1/BlogFeedback/blogData_test*')\n",
      "for path in dir_test:\n",
      "    df_test = pd.read_csv(path, header=None)\n",
      "    DATA_T = df_test.as_matrix()\n",
      "    X_test = DATA_T[:, :-1]\n",
      "    Y_test = DATA_T[:, -1]\n",
      "\n",
      "    y_predict1 = model.predict(X_test)\n",
      "    y_predict2 = model2.predict(X_test)\n",
      "    y_predict3 = model3.predict(X_test)\n",
      "\n",
      "    \"\"\"\n",
      "    Medida  R cuadrada,  la m\u00e1s \u00f3ptima es 1. \n",
      "    \"\"\"\n",
      "    print(\"Model 1; metric R square, \", r2_score(Y_test, y_predict1))\n",
      "    print(\"Model 2; metric R square, \", r2_score(Y_test, y_predict2))\n",
      "    print(\"Model 3; metric R square, \", r2_score(Y_test, y_predict3))\n",
      "    print(\"\")"
     ],
     "language": "python",
     "metadata": {},
     "outputs": []
    },
    {
     "cell_type": "markdown",
     "metadata": {},
     "source": [
      "Liga de github.\n",
      "https://github.com/JU-2094/machine_learning_projects"
     ]
    }
   ],
   "metadata": {}
  }
 ]
}