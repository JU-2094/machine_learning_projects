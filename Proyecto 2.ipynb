{
 "metadata": {
  "name": "",
  "signature": "sha256:ffee36aae82958ff4d78bb123e0950b63bf969a7918626b076ffd65822c0da50"
 },
 "nbformat": 3,
 "nbformat_minor": 0,
 "worksheets": [
  {
   "cells": [
    {
     "cell_type": "heading",
     "level": 1,
     "metadata": {},
     "source": [
      "Proyecto clustering de im\u00e1genes"
     ]
    },
    {
     "cell_type": "heading",
     "level": 3,
     "metadata": {},
     "source": [
      "Autor: Josu\u00e9 Fabricio Urbina Gonz\u00e1lez"
     ]
    },
    {
     "cell_type": "markdown",
     "metadata": {},
     "source": [
      "Se utilizaron los siguientes m\u00f3dulos de python para su realizaci\u00f3n. "
     ]
    },
    {
     "cell_type": "code",
     "collapsed": false,
     "input": [
      "%matplotlib inline\n",
      "from tensorflow.examples.tutorials.mnist import input_data\n",
      "from sklearn.manifold import TSNE\n",
      "from sklearn.decomposition import PCA\n",
      "from sklearn.cluster import AgglomerativeClustering\n",
      "import numpy as np\n",
      "import matplotlib.pyplot as plt"
     ],
     "language": "python",
     "metadata": {},
     "outputs": [],
     "prompt_number": 1
    },
    {
     "cell_type": "code",
     "collapsed": false,
     "input": [
      "sns.set_style('darkgrid')\n",
      "sns.set_palette('muted')\n",
      "sns.set_context(\"notebook\", font_scale=1.5,\n",
      "                rc={\"lines.linewidth\": 2.5})"
     ],
     "language": "python",
     "metadata": {},
     "outputs": []
    },
    {
     "cell_type": "markdown",
     "metadata": {},
     "source": [
      "Se leen los datos del Fashion-MNIST. Y se declara un RandomState utilizado para el TSNE. "
     ]
    },
    {
     "cell_type": "code",
     "collapsed": false,
     "input": [
      "# Visual\n",
      "# Random state.\n",
      "RS = 102030\n",
      "\n",
      "data = input_data.read_data_sets('Data/P2')\n",
      "\n",
      "tmp = data.train.images\n",
      "tmp_labels = data.train.labels"
     ],
     "language": "python",
     "metadata": {},
     "outputs": []
    },
    {
     "cell_type": "markdown",
     "metadata": {},
     "source": [
      "Reordenamos los puntos de acuerdo a las clases con las que fueron etiquetadas. "
     ]
    },
    {
     "cell_type": "code",
     "collapsed": false,
     "input": [
      "X = np.vstack([tmp[tmp_labels == i]\n",
      "               for i in range(10)])\n",
      "y = np.hstack([tmp_labels[tmp_labels == i]\n",
      "               for i in range(10)])"
     ],
     "language": "python",
     "metadata": {},
     "outputs": []
    },
    {
     "cell_type": "markdown",
     "metadata": {},
     "source": [
      "Seleccionamos un conjunto aleatorio de 6000 muestras."
     ]
    },
    {
     "cell_type": "code",
     "collapsed": false,
     "input": [
      "set = set()\n",
      "while len(set) < 6000:\n",
      "    set.add(np.random.randint(0, len(tmp)))\n",
      "set = sorted(list(set))\n",
      "train = X[list(set), :]\n",
      "train_labels = y[list(set)]"
     ],
     "language": "python",
     "metadata": {},
     "outputs": []
    },
    {
     "cell_type": "markdown",
     "metadata": {},
     "source": [
      "Realizamos la reducci\u00f3n de dimensionalidad a 2 para su visualizaci\u00f3n. Utilizando TSNE"
     ]
    },
    {
     "cell_type": "code",
     "collapsed": false,
     "input": [
      "proj = TSNE(random_state=RS, perplexity=50, verbose=1).fit_transform(train)"
     ],
     "language": "python",
     "metadata": {},
     "outputs": []
    },
    {
     "cell_type": "markdown",
     "metadata": {},
     "source": [
      "La siguiente funci\u00f3n es de apoyo para mostrar los puntos"
     ]
    },
    {
     "cell_type": "code",
     "collapsed": false,
     "input": [
      "def scatter(x, colors):\n",
      "    palette = np.array(sns.color_palette(\"hls\", 10))\n",
      "\n",
      "    # We create a scatter plot.\n",
      "    f = plt.figure(figsize=(8, 8))\n",
      "    ax = plt.subplot(aspect='equal')\n",
      "    sc = ax.scatter(x[:,0], x[:,1], lw=0, s=40,\n",
      "                    c=palette[colors.astype(np.int)])\n",
      "\n",
      "    plt.xlim(-25, 25)\n",
      "    plt.ylim(-25, 25)\n",
      "    ax.axis('off')\n",
      "    ax.axis('tight')\n",
      "\n",
      "    return f, ax, sc"
     ],
     "language": "python",
     "metadata": {},
     "outputs": []
    },
    {
     "cell_type": "markdown",
     "metadata": {},
     "source": [
      "Usando reducci\u00f3n mediante PCA y el m\u00e9todo AgglomerativeClustering se tratan los datos. "
     ]
    },
    {
     "cell_type": "code",
     "collapsed": false,
     "input": [
      "pca = PCA(n_components=300)\n",
      "proj = pca.fit_transform(train)\n",
      "\n",
      "# Agglomerative Clustering\n",
      "cluster = AgglomerativeClustering(n_clusters=10)\n",
      "cluster.fit(proj)"
     ],
     "language": "python",
     "metadata": {},
     "outputs": []
    },
    {
     "cell_type": "code",
     "collapsed": false,
     "input": [
      "scatter(proj_v, cluster.labels_)\n",
      "plt.savefig('fashion_tsne-generated.png', dpi=120)\n",
      "plt.show()"
     ],
     "language": "python",
     "metadata": {},
     "outputs": []
    },
    {
     "cell_type": "code",
     "collapsed": false,
     "input": [
      "scatter(proj_v, train_labels)\n",
      "plt.savefig('fashion_tsne-generated_original.png', dpi=120)\n",
      "plt.show()"
     ],
     "language": "python",
     "metadata": {},
     "outputs": []
    }
   ],
   "metadata": {}
  }
 ]
}